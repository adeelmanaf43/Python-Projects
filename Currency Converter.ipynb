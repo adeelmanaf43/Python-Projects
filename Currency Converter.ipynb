{
 "cells": [
  {
   "cell_type": "code",
   "execution_count": 1,
   "id": "4f98ba1b",
   "metadata": {},
   "outputs": [],
   "source": [
    "import requests"
   ]
  },
  {
   "cell_type": "code",
   "execution_count": 2,
   "id": "3bedca09",
   "metadata": {},
   "outputs": [
    {
     "data": {
      "text/plain": [
       "{'CAD': 0.81,\n",
       " 'EUR': 1.17,\n",
       " 'GBP': 1.41,\n",
       " 'JPY': 0.0091,\n",
       " 'AUD': 0.73,\n",
       " 'CHF': 1.09,\n",
       " 'CNY': 0.16,\n",
       " 'SEK': 0.12,\n",
       " 'NZD': 0.68,\n",
       " 'MXN': 0.05,\n",
       " 'SGD': 0.74,\n",
       " 'HKD': 0.13,\n",
       " 'NOK': 0.11,\n",
       " 'KRW': 0.0009,\n",
       " 'INR': 0.014,\n",
       " 'BRL': 0.19,\n",
       " 'RUB': 0.014,\n",
       " 'ZAR': 0.069,\n",
       " 'TRY': 0.11,\n",
       " 'AED': 0.27,\n",
       " 'PLN': 0.26}"
      ]
     },
     "execution_count": 2,
     "metadata": {},
     "output_type": "execute_result"
    }
   ],
   "source": [
    "import json\n",
    "with open(\"../currency.json\") as f:\n",
    "    data = json.load(f)\n",
    "data"
   ]
  },
  {
   "cell_type": "code",
   "execution_count": 3,
   "id": "344dc296",
   "metadata": {},
   "outputs": [
    {
     "data": {
      "text/plain": [
       "dict"
      ]
     },
     "execution_count": 3,
     "metadata": {},
     "output_type": "execute_result"
    }
   ],
   "source": [
    "type(data)"
   ]
  },
  {
   "cell_type": "code",
   "execution_count": 4,
   "id": "936c0f70",
   "metadata": {},
   "outputs": [
    {
     "data": {
      "text/plain": [
       "str"
      ]
     },
     "execution_count": 4,
     "metadata": {},
     "output_type": "execute_result"
    }
   ],
   "source": [
    "json_data = json.dumps(data)\n",
    "type(json_data)"
   ]
  },
  {
   "cell_type": "code",
   "execution_count": 7,
   "id": "fa64f7ff",
   "metadata": {},
   "outputs": [
    {
     "data": {
      "text/plain": [
       "dict"
      ]
     },
     "execution_count": 7,
     "metadata": {},
     "output_type": "execute_result"
    }
   ],
   "source": [
    "dict_data = json.loads(json_data)\n",
    "type(dict_data)"
   ]
  },
  {
   "cell_type": "code",
   "execution_count": 23,
   "id": "13a5594f",
   "metadata": {},
   "outputs": [
    {
     "name": "stdout",
     "output_type": "stream",
     "text": [
      "Enter base currency: AAA\n",
      "Enter target currency: BBB\n",
      "Enter amount to convert: 100\n"
     ]
    },
    {
     "ename": "KeyError",
     "evalue": "'conversion_rates'",
     "output_type": "error",
     "traceback": [
      "\u001b[1;31m---------------------------------------------------------------------------\u001b[0m",
      "\u001b[1;31mKeyError\u001b[0m                                  Traceback (most recent call last)",
      "\u001b[1;32m~\\AppData\\Local\\Temp\\ipykernel_16312\\361326152.py\u001b[0m in \u001b[0;36m<module>\u001b[1;34m\u001b[0m\n\u001b[0;32m      7\u001b[0m \u001b[0mres\u001b[0m \u001b[1;33m=\u001b[0m \u001b[0mrequests\u001b[0m\u001b[1;33m.\u001b[0m\u001b[0mget\u001b[0m\u001b[1;33m(\u001b[0m\u001b[0murl\u001b[0m \u001b[1;33m+\u001b[0m \u001b[0mbase_currency\u001b[0m\u001b[1;33m)\u001b[0m\u001b[1;33m\u001b[0m\u001b[1;33m\u001b[0m\u001b[0m\n\u001b[0;32m      8\u001b[0m \u001b[0mres_json\u001b[0m \u001b[1;33m=\u001b[0m \u001b[0mres\u001b[0m\u001b[1;33m.\u001b[0m\u001b[0mjson\u001b[0m\u001b[1;33m(\u001b[0m\u001b[1;33m)\u001b[0m\u001b[1;33m\u001b[0m\u001b[1;33m\u001b[0m\u001b[0m\n\u001b[1;32m----> 9\u001b[1;33m \u001b[0mconversion_rates\u001b[0m \u001b[1;33m=\u001b[0m \u001b[0mres_json\u001b[0m\u001b[1;33m[\u001b[0m\u001b[1;34m\"conversion_rates\"\u001b[0m\u001b[1;33m]\u001b[0m\u001b[1;33m\u001b[0m\u001b[1;33m\u001b[0m\u001b[0m\n\u001b[0m\u001b[0;32m     10\u001b[0m \u001b[0mconverted_amount\u001b[0m \u001b[1;33m=\u001b[0m \u001b[0mamount\u001b[0m \u001b[1;33m*\u001b[0m \u001b[0mconversion_rates\u001b[0m\u001b[1;33m[\u001b[0m\u001b[0mtarget_currency\u001b[0m\u001b[1;33m]\u001b[0m\u001b[1;33m\u001b[0m\u001b[1;33m\u001b[0m\u001b[0m\n\u001b[0;32m     11\u001b[0m \u001b[0mprint\u001b[0m\u001b[1;33m(\u001b[0m\u001b[0mamount\u001b[0m\u001b[1;33m,\u001b[0m \u001b[0mbase_currency\u001b[0m\u001b[1;33m,\u001b[0m  \u001b[1;34m\"=\"\u001b[0m\u001b[1;33m,\u001b[0m \u001b[0mround\u001b[0m\u001b[1;33m(\u001b[0m\u001b[0mconverted_amount\u001b[0m\u001b[1;33m,\u001b[0m\u001b[1;36m3\u001b[0m\u001b[1;33m)\u001b[0m\u001b[1;33m,\u001b[0m \u001b[0mtarget_currency\u001b[0m\u001b[1;33m)\u001b[0m\u001b[1;33m\u001b[0m\u001b[1;33m\u001b[0m\u001b[0m\n",
      "\u001b[1;31mKeyError\u001b[0m: 'conversion_rates'"
     ]
    }
   ],
   "source": [
    "url = \"https://v6.exchangerate-api.com/v6/ec15dd693d359d3b3696a99c/latest/\"\n",
    "base_currency = input(\"Enter base currency: \")\n",
    "base_currnecy = base_currency.upper()\n",
    "target_currency = input(\"Enter target currency: \")\n",
    "target_currnecy = target_currency.upper()\n",
    "amount = float(input(\"Enter amount to convert: \"))\n",
    "res = requests.get(url + base_currency)\n",
    "res_json = res.json()\n",
    "conversion_rates = res_json[\"conversion_rates\"]\n",
    "converted_amount = amount * conversion_rates[target_currency]\n",
    "print(amount, base_currency,  \"=\", round(converted_amount,3), target_currency)"
   ]
  },
  {
   "cell_type": "code",
   "execution_count": 11,
   "id": "9db71564",
   "metadata": {},
   "outputs": [
    {
     "name": "stdout",
     "output_type": "stream",
     "text": [
      "Enter base currency: USD\n",
      "Enter target currency: PKR\n",
      "Enter amount to convert: 100\n"
     ]
    }
   ],
   "source": []
  },
  {
   "cell_type": "code",
   "execution_count": 12,
   "id": "5b4c8bf4",
   "metadata": {},
   "outputs": [
    {
     "data": {
      "text/plain": [
       "b'{\\n \"result\":\"success\",\\n \"documentation\":\"https://www.exchangerate-api.com/docs\",\\n \"terms_of_use\":\"https://www.exchangerate-api.com/terms\",\\n \"time_last_update_unix\":1716422401,\\n \"time_last_update_utc\":\"Thu, 23 May 2024 00:00:01 +0000\",\\n \"time_next_update_unix\":1716508801,\\n \"time_next_update_utc\":\"Fri, 24 May 2024 00:00:01 +0000\",\\n \"base_code\":\"USD\",\\n \"conversion_rates\":{\\n  \"USD\":1,\\n  \"AED\":3.6725,\\n  \"AFN\":71.9089,\\n  \"ALL\":92.4853,\\n  \"AMD\":388.1414,\\n  \"ANG\":1.7900,\\n  \"AOA\":860.4597,\\n  \"ARS\":864.7500,\\n  \"AUD\":1.5068,\\n  \"AWG\":1.7900,\\n  \"AZN\":1.7004,\\n  \"BAM\":1.8065,\\n  \"BBD\":2.0000,\\n  \"BDT\":117.1760,\\n  \"BGN\":1.8064,\\n  \"BHD\":0.3760,\\n  \"BIF\":2867.9870,\\n  \"BMD\":1.0000,\\n  \"BND\":1.3496,\\n  \"BOB\":6.9229,\\n  \"BRL\":5.1310,\\n  \"BSD\":1.0000,\\n  \"BTN\":83.2873,\\n  \"BWP\":13.4961,\\n  \"BYN\":3.2482,\\n  \"BZD\":2.0000,\\n  \"CAD\":1.3672,\\n  \"CDF\":2770.7456,\\n  \"CHF\":0.9145,\\n  \"CLP\":888.9391,\\n  \"CNY\":7.2455,\\n  \"COP\":3832.8074,\\n  \"CRC\":513.0830,\\n  \"CUP\":24.0000,\\n  \"CVE\":101.8446,\\n  \"CZK\":22.8283,\\n  \"DJF\":177.7210,\\n  \"DKK\":6.8913,\\n  \"DOP\":58.7371,\\n  \"DZD\":134.5671,\\n  \"EGP\":46.7456,\\n  \"ERN\":15.0000,\\n  \"ETB\":57.4573,\\n  \"EUR\":0.9236,\\n  \"FJD\":2.2628,\\n  \"FKP\":0.7860,\\n  \"FOK\":6.8898,\\n  \"GBP\":0.7860,\\n  \"GEL\":2.7232,\\n  \"GGP\":0.7860,\\n  \"GHS\":14.5206,\\n  \"GIP\":0.7860,\\n  \"GMD\":66.1971,\\n  \"GNF\":8581.5600,\\n  \"GTQ\":7.7718,\\n  \"GYD\":209.2903,\\n  \"HKD\":7.8048,\\n  \"HNL\":24.7222,\\n  \"HRK\":6.9591,\\n  \"HTG\":133.2813,\\n  \"HUF\":357.4045,\\n  \"IDR\":16035.9001,\\n  \"ILS\":3.6756,\\n  \"IMP\":0.7860,\\n  \"INR\":83.2941,\\n  \"IQD\":1310.7955,\\n  \"IRR\":42135.9477,\\n  \"ISK\":138.4019,\\n  \"JEP\":0.7860,\\n  \"JMD\":156.2100,\\n  \"JOD\":0.7090,\\n  \"JPY\":156.5792,\\n  \"KES\":131.6277,\\n  \"KGS\":88.6567,\\n  \"KHR\":4082.4003,\\n  \"KID\":1.5067,\\n  \"KMF\":454.3985,\\n  \"KRW\":1365.3516,\\n  \"KWD\":0.3070,\\n  \"KYD\":0.8333,\\n  \"KZT\":442.1723,\\n  \"LAK\":21533.8832,\\n  \"LBP\":89500.0000,\\n  \"LKR\":299.8604,\\n  \"LRD\":193.3746,\\n  \"LSL\":18.2445,\\n  \"LYD\":4.8404,\\n  \"MAD\":9.9090,\\n  \"MDL\":17.6681,\\n  \"MGA\":4434.1936,\\n  \"MKD\":56.7152,\\n  \"MMK\":2101.1967,\\n  \"MNT\":3410.3176,\\n  \"MOP\":8.0399,\\n  \"MRU\":39.8960,\\n  \"MUR\":46.0392,\\n  \"MVR\":15.4467,\\n  \"MWK\":1739.7591,\\n  \"MXN\":16.6556,\\n  \"MYR\":4.6925,\\n  \"MZN\":63.4532,\\n  \"NAD\":18.2445,\\n  \"NGN\":1434.5184,\\n  \"NIO\":36.8361,\\n  \"NOK\":10.6998,\\n  \"NPR\":133.2596,\\n  \"NZD\":1.6380,\\n  \"OMR\":0.3845,\\n  \"PAB\":1.0000,\\n  \"PEN\":3.7371,\\n  \"PGK\":3.8642,\\n  \"PHP\":58.0597,\\n  \"PKR\":278.7509,\\n  \"PLN\":3.9383,\\n  \"PYG\":7508.2056,\\n  \"QAR\":3.6400,\\n  \"RON\":4.5925,\\n  \"RSD\":108.0757,\\n  \"RUB\":90.1945,\\n  \"RWF\":1310.7501,\\n  \"SAR\":3.7500,\\n  \"SBD\":8.3570,\\n  \"SCR\":13.7352,\\n  \"SDG\":544.3110,\\n  \"SEK\":10.7347,\\n  \"SGD\":1.3496,\\n  \"SHP\":0.7860,\\n  \"SLE\":22.6613,\\n  \"SLL\":22661.2592,\\n  \"SOS\":571.5827,\\n  \"SRD\":32.3863,\\n  \"SSP\":1666.6329,\\n  \"STN\":22.6290,\\n  \"SYP\":12939.8473,\\n  \"SZL\":18.2445,\\n  \"THB\":36.4327,\\n  \"TJS\":10.8796,\\n  \"TMT\":3.5006,\\n  \"TND\":3.1120,\\n  \"TOP\":2.3404,\\n  \"TRY\":32.2136,\\n  \"TTD\":6.7747,\\n  \"TVD\":1.5067,\\n  \"TWD\":32.2739,\\n  \"TZS\":2598.0250,\\n  \"UAH\":39.7960,\\n  \"UGX\":3810.7284,\\n  \"UYU\":38.4796,\\n  \"UZS\":12721.0049,\\n  \"VES\":36.5464,\\n  \"VND\":25495.1803,\\n  \"VUV\":119.8615,\\n  \"WST\":2.7312,\\n  \"XAF\":605.8646,\\n  \"XCD\":2.7000,\\n  \"XDR\":0.7553,\\n  \"XOF\":605.8646,\\n  \"XPF\":110.2192,\\n  \"YER\":250.3882,\\n  \"ZAR\":18.2589,\\n  \"ZMW\":26.0214,\\n  \"ZWL\":13.2767\\n }\\n}'"
      ]
     },
     "execution_count": 12,
     "metadata": {},
     "output_type": "execute_result"
    }
   ],
   "source": []
  },
  {
   "cell_type": "code",
   "execution_count": 17,
   "id": "d5c3ecbb",
   "metadata": {},
   "outputs": [
    {
     "data": {
      "text/plain": [
       "{'result': 'success',\n",
       " 'documentation': 'https://www.exchangerate-api.com/docs',\n",
       " 'terms_of_use': 'https://www.exchangerate-api.com/terms',\n",
       " 'time_last_update_unix': 1716422401,\n",
       " 'time_last_update_utc': 'Thu, 23 May 2024 00:00:01 +0000',\n",
       " 'time_next_update_unix': 1716508801,\n",
       " 'time_next_update_utc': 'Fri, 24 May 2024 00:00:01 +0000',\n",
       " 'base_code': 'USD',\n",
       " 'conversion_rates': {'USD': 1,\n",
       "  'AED': 3.6725,\n",
       "  'AFN': 71.9089,\n",
       "  'ALL': 92.4853,\n",
       "  'AMD': 388.1414,\n",
       "  'ANG': 1.79,\n",
       "  'AOA': 860.4597,\n",
       "  'ARS': 864.75,\n",
       "  'AUD': 1.5068,\n",
       "  'AWG': 1.79,\n",
       "  'AZN': 1.7004,\n",
       "  'BAM': 1.8065,\n",
       "  'BBD': 2.0,\n",
       "  'BDT': 117.176,\n",
       "  'BGN': 1.8064,\n",
       "  'BHD': 0.376,\n",
       "  'BIF': 2867.987,\n",
       "  'BMD': 1.0,\n",
       "  'BND': 1.3496,\n",
       "  'BOB': 6.9229,\n",
       "  'BRL': 5.131,\n",
       "  'BSD': 1.0,\n",
       "  'BTN': 83.2873,\n",
       "  'BWP': 13.4961,\n",
       "  'BYN': 3.2482,\n",
       "  'BZD': 2.0,\n",
       "  'CAD': 1.3672,\n",
       "  'CDF': 2770.7456,\n",
       "  'CHF': 0.9145,\n",
       "  'CLP': 888.9391,\n",
       "  'CNY': 7.2455,\n",
       "  'COP': 3832.8074,\n",
       "  'CRC': 513.083,\n",
       "  'CUP': 24.0,\n",
       "  'CVE': 101.8446,\n",
       "  'CZK': 22.8283,\n",
       "  'DJF': 177.721,\n",
       "  'DKK': 6.8913,\n",
       "  'DOP': 58.7371,\n",
       "  'DZD': 134.5671,\n",
       "  'EGP': 46.7456,\n",
       "  'ERN': 15.0,\n",
       "  'ETB': 57.4573,\n",
       "  'EUR': 0.9236,\n",
       "  'FJD': 2.2628,\n",
       "  'FKP': 0.786,\n",
       "  'FOK': 6.8898,\n",
       "  'GBP': 0.786,\n",
       "  'GEL': 2.7232,\n",
       "  'GGP': 0.786,\n",
       "  'GHS': 14.5206,\n",
       "  'GIP': 0.786,\n",
       "  'GMD': 66.1971,\n",
       "  'GNF': 8581.56,\n",
       "  'GTQ': 7.7718,\n",
       "  'GYD': 209.2903,\n",
       "  'HKD': 7.8048,\n",
       "  'HNL': 24.7222,\n",
       "  'HRK': 6.9591,\n",
       "  'HTG': 133.2813,\n",
       "  'HUF': 357.4045,\n",
       "  'IDR': 16035.9001,\n",
       "  'ILS': 3.6756,\n",
       "  'IMP': 0.786,\n",
       "  'INR': 83.2941,\n",
       "  'IQD': 1310.7955,\n",
       "  'IRR': 42135.9477,\n",
       "  'ISK': 138.4019,\n",
       "  'JEP': 0.786,\n",
       "  'JMD': 156.21,\n",
       "  'JOD': 0.709,\n",
       "  'JPY': 156.5792,\n",
       "  'KES': 131.6277,\n",
       "  'KGS': 88.6567,\n",
       "  'KHR': 4082.4003,\n",
       "  'KID': 1.5067,\n",
       "  'KMF': 454.3985,\n",
       "  'KRW': 1365.3516,\n",
       "  'KWD': 0.307,\n",
       "  'KYD': 0.8333,\n",
       "  'KZT': 442.1723,\n",
       "  'LAK': 21533.8832,\n",
       "  'LBP': 89500.0,\n",
       "  'LKR': 299.8604,\n",
       "  'LRD': 193.3746,\n",
       "  'LSL': 18.2445,\n",
       "  'LYD': 4.8404,\n",
       "  'MAD': 9.909,\n",
       "  'MDL': 17.6681,\n",
       "  'MGA': 4434.1936,\n",
       "  'MKD': 56.7152,\n",
       "  'MMK': 2101.1967,\n",
       "  'MNT': 3410.3176,\n",
       "  'MOP': 8.0399,\n",
       "  'MRU': 39.896,\n",
       "  'MUR': 46.0392,\n",
       "  'MVR': 15.4467,\n",
       "  'MWK': 1739.7591,\n",
       "  'MXN': 16.6556,\n",
       "  'MYR': 4.6925,\n",
       "  'MZN': 63.4532,\n",
       "  'NAD': 18.2445,\n",
       "  'NGN': 1434.5184,\n",
       "  'NIO': 36.8361,\n",
       "  'NOK': 10.6998,\n",
       "  'NPR': 133.2596,\n",
       "  'NZD': 1.638,\n",
       "  'OMR': 0.3845,\n",
       "  'PAB': 1.0,\n",
       "  'PEN': 3.7371,\n",
       "  'PGK': 3.8642,\n",
       "  'PHP': 58.0597,\n",
       "  'PKR': 278.7509,\n",
       "  'PLN': 3.9383,\n",
       "  'PYG': 7508.2056,\n",
       "  'QAR': 3.64,\n",
       "  'RON': 4.5925,\n",
       "  'RSD': 108.0757,\n",
       "  'RUB': 90.1945,\n",
       "  'RWF': 1310.7501,\n",
       "  'SAR': 3.75,\n",
       "  'SBD': 8.357,\n",
       "  'SCR': 13.7352,\n",
       "  'SDG': 544.311,\n",
       "  'SEK': 10.7347,\n",
       "  'SGD': 1.3496,\n",
       "  'SHP': 0.786,\n",
       "  'SLE': 22.6613,\n",
       "  'SLL': 22661.2592,\n",
       "  'SOS': 571.5827,\n",
       "  'SRD': 32.3863,\n",
       "  'SSP': 1666.6329,\n",
       "  'STN': 22.629,\n",
       "  'SYP': 12939.8473,\n",
       "  'SZL': 18.2445,\n",
       "  'THB': 36.4327,\n",
       "  'TJS': 10.8796,\n",
       "  'TMT': 3.5006,\n",
       "  'TND': 3.112,\n",
       "  'TOP': 2.3404,\n",
       "  'TRY': 32.2136,\n",
       "  'TTD': 6.7747,\n",
       "  'TVD': 1.5067,\n",
       "  'TWD': 32.2739,\n",
       "  'TZS': 2598.025,\n",
       "  'UAH': 39.796,\n",
       "  'UGX': 3810.7284,\n",
       "  'UYU': 38.4796,\n",
       "  'UZS': 12721.0049,\n",
       "  'VES': 36.5464,\n",
       "  'VND': 25495.1803,\n",
       "  'VUV': 119.8615,\n",
       "  'WST': 2.7312,\n",
       "  'XAF': 605.8646,\n",
       "  'XCD': 2.7,\n",
       "  'XDR': 0.7553,\n",
       "  'XOF': 605.8646,\n",
       "  'XPF': 110.2192,\n",
       "  'YER': 250.3882,\n",
       "  'ZAR': 18.2589,\n",
       "  'ZMW': 26.0214,\n",
       "  'ZWL': 13.2767}}"
      ]
     },
     "execution_count": 17,
     "metadata": {},
     "output_type": "execute_result"
    }
   ],
   "source": []
  },
  {
   "cell_type": "code",
   "execution_count": 20,
   "id": "6715e2ba",
   "metadata": {},
   "outputs": [
    {
     "name": "stdout",
     "output_type": "stream",
     "text": [
      "100.0 USD = 27875.09 PKR\n"
     ]
    }
   ],
   "source": []
  },
  {
   "cell_type": "code",
   "execution_count": null,
   "id": "46ea56c3",
   "metadata": {},
   "outputs": [],
   "source": []
  }
 ],
 "metadata": {
  "kernelspec": {
   "display_name": "Python 3 (ipykernel)",
   "language": "python",
   "name": "python3"
  },
  "language_info": {
   "codemirror_mode": {
    "name": "ipython",
    "version": 3
   },
   "file_extension": ".py",
   "mimetype": "text/x-python",
   "name": "python",
   "nbconvert_exporter": "python",
   "pygments_lexer": "ipython3",
   "version": "3.9.13"
  }
 },
 "nbformat": 4,
 "nbformat_minor": 5
}
