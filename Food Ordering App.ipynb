{
 "cells": [
  {
   "cell_type": "code",
   "execution_count": 1,
   "id": "66f70206",
   "metadata": {},
   "outputs": [],
   "source": [
    "resturant_name = \"Bets Buddies\"\n",
    "food_items = {\n",
    "    \"SKU1\": {\"name\": \"Margherita Pizza\", \"price\": 8.99},\n",
    "    \"SKU2\": {\"name\": \"Cheeseburger\", \"price\": 6.49},\n",
    "    \"SKU3\": {\"name\": \"Caesar Salad\", \"price\": 7.99},\n",
    "    \"SKU4\": {\"name\": \"Spaghetti Bolognese\", \"price\": 12.99},\n",
    "    \"SKU5\": {\"name\": \"Grilled Chicken Sandwich\", \"price\": 9.49},\n",
    "    \"SKU6\": {\"name\": \"Fish and Chips\", \"price\": 11.49},\n",
    "    \"SKU7\": {\"name\": \"Veggie Burger\", \"price\": 7.99},\n",
    "    \"SKU8\": {\"name\": \"Chicken Wings\", \"price\": 8.99},\n",
    "    \"SKU9\": {\"name\": \"Chocolate Cake\", \"price\": 5.49},\n",
    "    \"SKU10\": {\"name\": \"Ice Cream Sundae\", \"price\": 4.99}\n",
    "}\n",
    "\n",
    "actions = {\"1\": \"Add an item to the cart\",\n",
    "          \"2\": \"Remove an item from the cart\",\n",
    "          \"3\": \"Modify item in the cart\",\n",
    "          \"4\": \"View Items in the cart\",\n",
    "          \"5\": \"Checkout\",\n",
    "          \"6\":\"Exit\"}\n",
    "cart = {}\n"
   ]
  },
  {
   "cell_type": "code",
   "execution_count": 2,
   "id": "abab4688",
   "metadata": {},
   "outputs": [
    {
     "name": "stdout",
     "output_type": "stream",
     "text": [
      "\n",
      "***Welcome to the Bets Buddies***\n",
      "\n",
      "\n",
      "Please choose your action: \n",
      "\n",
      "\n",
      "(1) Add an item to the cart\n",
      "(2) Remove an item from the cart\n",
      "(3) Modify item in the cart\n",
      "(4) View Items in the cart\n",
      "(5) Checkout\n",
      "(6) Exit\n"
     ]
    }
   ],
   "source": [
    "def display_actions():\n",
    "    print(f\"\\n***Welcome to the {resturant_name}***\\n\")\n",
    "    print(\"\\nPlease choose your action: \")\n",
    "    print(\"\\n\")\n",
    "    for action in actions:\n",
    "        print(f\"({action}) {actions[action]}\")\n",
    "display_actions()"
   ]
  },
  {
   "cell_type": "code",
   "execution_count": 3,
   "id": "844b677d",
   "metadata": {},
   "outputs": [
    {
     "name": "stdout",
     "output_type": "stream",
     "text": [
      "(1) Margherita Pizza\n",
      "(2) Cheeseburger\n",
      "(3) Caesar Salad\n",
      "(4) Spaghetti Bolognese\n",
      "(5) Grilled Chicken Sandwich\n",
      "(6) Fish and Chips\n",
      "(7) Veggie Burger\n",
      "(8) Chicken Wings\n",
      "(9) Chocolate Cake\n",
      "(10) Ice Cream Sundae\n"
     ]
    }
   ],
   "source": [
    "def display_menu():\n",
    "    for item in food_items:\n",
    "        print(f\"({item[3:]}) {food_items[item]['name']}\")\n",
    "display_menu()"
   ]
  },
  {
   "cell_type": "code",
   "execution_count": 4,
   "id": "14d08ef3",
   "metadata": {},
   "outputs": [
    {
     "name": "stdout",
     "output_type": "stream",
     "text": [
      "Margherita Pizza is successfully added in the cart\n"
     ]
    }
   ],
   "source": [
    "def add_to_cart(sku, quantity = 1):\n",
    "    if sku in food_items:\n",
    "        if sku in cart:\n",
    "            cart[sku] += quantity\n",
    "        else:\n",
    "            cart[sku] = quantity\n",
    "        print(f\"{food_items[sku]['name']} is successfully added in the cart\")\n",
    "    else:\n",
    "        print(\"Please enter valid item from menu\")\n",
    "add_to_cart(\"SKU1\", 4)"
   ]
  },
  {
   "cell_type": "code",
   "execution_count": 5,
   "id": "35635fa6",
   "metadata": {},
   "outputs": [
    {
     "name": "stdout",
     "output_type": "stream",
     "text": [
      "Chocolate Cake is successfully added in the cart\n"
     ]
    }
   ],
   "source": [
    "add_to_cart(\"SKU9\", 11)"
   ]
  },
  {
   "cell_type": "code",
   "execution_count": 6,
   "id": "68ed78d8",
   "metadata": {},
   "outputs": [
    {
     "name": "stdout",
     "output_type": "stream",
     "text": [
      "Ice Cream Sundae is successfully added in the cart\n"
     ]
    }
   ],
   "source": [
    "add_to_cart(\"SKU10\", 17)"
   ]
  },
  {
   "cell_type": "code",
   "execution_count": 7,
   "id": "45e93d52",
   "metadata": {},
   "outputs": [
    {
     "name": "stdout",
     "output_type": "stream",
     "text": [
      "Chocolate Cake successfully removed from the cart\n"
     ]
    }
   ],
   "source": [
    "def remove_from_cart(sku):\n",
    "    if sku in cart:\n",
    "        removed_item = cart.pop(sku)\n",
    "        print(f\"{food_items[sku]['name']} successfully removed from the cart\")\n",
    "    else:\n",
    "        print(f\"{food_items[sku]['name']} not in the cart\")\n",
    "remove_from_cart(\"SKU9\")"
   ]
  },
  {
   "cell_type": "code",
   "execution_count": 8,
   "id": "b44b342d",
   "metadata": {},
   "outputs": [
    {
     "name": "stdout",
     "output_type": "stream",
     "text": [
      "Margherita Pizza successfully modified\n"
     ]
    }
   ],
   "source": [
    "def modify_item(sku, quantity):\n",
    "    if sku in cart:\n",
    "        if quantity > 0:\n",
    "            cart[sku] = quantity\n",
    "            print(f\"{food_items[sku]['name']} successfully modified\")\n",
    "        else:\n",
    "            removed_item = cart.pop(sku)\n",
    "    else:\n",
    "        print(f\"{food_items[sku]['name']} not in the cart\")\n",
    "modify_item(\"SKU1\", 3)"
   ]
  },
  {
   "cell_type": "code",
   "execution_count": 9,
   "id": "54d82add",
   "metadata": {},
   "outputs": [
    {
     "name": "stdout",
     "output_type": "stream",
     "text": [
      "\n",
      "***Your Order***\n",
      "\n",
      "3 x Margherita Pizza\n",
      "17 x Ice Cream Sundae\n",
      "\n",
      "Total:  119.63 \n",
      "\n"
     ]
    }
   ],
   "source": [
    "def view_items():\n",
    "    gst = 0.07\n",
    "    print(\"\\n***Your Order***\\n\")\n",
    "    subtotal = 0\n",
    "    for item in cart:\n",
    "        print(f\"{cart[item]} x {food_items[item]['name']}\")\n",
    "        quantity = cart[item]\n",
    "        price = food_items[item]['price']\n",
    "        subtotal += price * quantity\n",
    "    total = round(subtotal + subtotal * gst, 2)\n",
    "    print(\"\\nTotal: \", total, \"\\n\")\n",
    "view_items()"
   ]
  },
  {
   "cell_type": "code",
   "execution_count": 10,
   "id": "18a0176b",
   "metadata": {},
   "outputs": [],
   "source": [
    "def checkout():\n",
    "    print(\"\\nThank you for your order! Good Bye!\\n\")\n",
    "    view_items()\n",
    "    print(\"\\n\")"
   ]
  },
  {
   "cell_type": "code",
   "execution_count": 11,
   "id": "81c9a5d6",
   "metadata": {},
   "outputs": [],
   "source": [
    "def get_sku_and_quantity(sku_prompt, quantity_prompt = None):\n",
    "    sku = input(sku_prompt)\n",
    "    sku = \"SKU\"+sku\n",
    "    if quantity_prompt:\n",
    "        qty = input(quantity_prompt)\n",
    "        if not qty.isdigit():\n",
    "            qty = 1\n",
    "        else:\n",
    "            qty = int(qty)\n",
    "        return sku, qty\n",
    "    else:\n",
    "        return sku"
   ]
  },
  {
   "cell_type": "code",
   "execution_count": 12,
   "id": "54a415fa",
   "metadata": {},
   "outputs": [
    {
     "name": "stdout",
     "output_type": "stream",
     "text": [
      "1 Margherita Pizza 3\n",
      "10 Ice Cream Sundae 17\n"
     ]
    }
   ],
   "source": [
    "def display_items_from_cart():\n",
    "    for item in cart:\n",
    "        print(f\"{item[3:]} {food_items[item]['name']} {cart[item]}\")\n",
    "display_items_from_cart()"
   ]
  },
  {
   "cell_type": "code",
   "execution_count": 13,
   "id": "d23be81f",
   "metadata": {},
   "outputs": [
    {
     "name": "stdout",
     "output_type": "stream",
     "text": [
      "\n",
      "***Welcome to the Bets Buddies***\n",
      "\n",
      "\n",
      "Please choose your action: \n",
      "\n",
      "\n",
      "(1) Add an item to the cart\n",
      "(2) Remove an item from the cart\n",
      "(3) Modify item in the cart\n",
      "(4) View Items in the cart\n",
      "(5) Checkout\n",
      "(6) Exit\n",
      "Enter your choice: 4\n",
      "\n",
      "***Your Order***\n",
      "\n",
      "3 x Margherita Pizza\n",
      "17 x Ice Cream Sundae\n",
      "\n",
      "Total:  119.63 \n",
      "\n",
      "\n",
      "***Welcome to the Bets Buddies***\n",
      "\n",
      "\n",
      "Please choose your action: \n",
      "\n",
      "\n",
      "(1) Add an item to the cart\n",
      "(2) Remove an item from the cart\n",
      "(3) Modify item in the cart\n",
      "(4) View Items in the cart\n",
      "(5) Checkout\n",
      "(6) Exit\n",
      "Enter your choice: 2\n",
      "1 Margherita Pizza 3\n",
      "10 Ice Cream Sundae 17\n",
      "Choose an item to remove: 10\n",
      "Ice Cream Sundae successfully removed from the cart\n",
      "\n",
      "***Welcome to the Bets Buddies***\n",
      "\n",
      "\n",
      "Please choose your action: \n",
      "\n",
      "\n",
      "(1) Add an item to the cart\n",
      "(2) Remove an item from the cart\n",
      "(3) Modify item in the cart\n",
      "(4) View Items in the cart\n",
      "(5) Checkout\n",
      "(6) Exit\n",
      "Enter your choice: 4\n",
      "\n",
      "***Your Order***\n",
      "\n",
      "3 x Margherita Pizza\n",
      "\n",
      "Total:  28.86 \n",
      "\n",
      "\n",
      "***Welcome to the Bets Buddies***\n",
      "\n",
      "\n",
      "Please choose your action: \n",
      "\n",
      "\n",
      "(1) Add an item to the cart\n",
      "(2) Remove an item from the cart\n",
      "(3) Modify item in the cart\n",
      "(4) View Items in the cart\n",
      "(5) Checkout\n",
      "(6) Exit\n",
      "Enter your choice: 1\n",
      "(1) Margherita Pizza\n",
      "(2) Cheeseburger\n",
      "(3) Caesar Salad\n",
      "(4) Spaghetti Bolognese\n",
      "(5) Grilled Chicken Sandwich\n",
      "(6) Fish and Chips\n",
      "(7) Veggie Burger\n",
      "(8) Chicken Wings\n",
      "(9) Chocolate Cake\n",
      "(10) Ice Cream Sundae\n",
      "Choose an item to add: 8\n",
      "Enter quantity for selected item: 20\n",
      "Chicken Wings is successfully added in the cart\n",
      "\n",
      "***Welcome to the Bets Buddies***\n",
      "\n",
      "\n",
      "Please choose your action: \n",
      "\n",
      "\n",
      "(1) Add an item to the cart\n",
      "(2) Remove an item from the cart\n",
      "(3) Modify item in the cart\n",
      "(4) View Items in the cart\n",
      "(5) Checkout\n",
      "(6) Exit\n",
      "Enter your choice: 4\n",
      "\n",
      "***Your Order***\n",
      "\n",
      "3 x Margherita Pizza\n",
      "20 x Chicken Wings\n",
      "\n",
      "Total:  221.24 \n",
      "\n",
      "\n",
      "***Welcome to the Bets Buddies***\n",
      "\n",
      "\n",
      "Please choose your action: \n",
      "\n",
      "\n",
      "(1) Add an item to the cart\n",
      "(2) Remove an item from the cart\n",
      "(3) Modify item in the cart\n",
      "(4) View Items in the cart\n",
      "(5) Checkout\n",
      "(6) Exit\n",
      "Enter your choice: 3\n",
      "1 Margherita Pizza 3\n",
      "8 Chicken Wings 20\n",
      "Choose an item to modify : 8\n",
      "Enter new quantity: 200\n",
      "Chicken Wings successfully modified\n",
      "\n",
      "***Welcome to the Bets Buddies***\n",
      "\n",
      "\n",
      "Please choose your action: \n",
      "\n",
      "\n",
      "(1) Add an item to the cart\n",
      "(2) Remove an item from the cart\n",
      "(3) Modify item in the cart\n",
      "(4) View Items in the cart\n",
      "(5) Checkout\n",
      "(6) Exit\n",
      "Enter your choice: 4\n",
      "\n",
      "***Your Order***\n",
      "\n",
      "3 x Margherita Pizza\n",
      "200 x Chicken Wings\n",
      "\n",
      "Total:  1952.72 \n",
      "\n",
      "\n",
      "***Welcome to the Bets Buddies***\n",
      "\n",
      "\n",
      "Please choose your action: \n",
      "\n",
      "\n",
      "(1) Add an item to the cart\n",
      "(2) Remove an item from the cart\n",
      "(3) Modify item in the cart\n",
      "(4) View Items in the cart\n",
      "(5) Checkout\n",
      "(6) Exit\n",
      "Enter your choice: 5\n",
      "\n",
      "Thank you for your order! Good Bye!\n",
      "\n",
      "<function view_items at 0x000002A1FDC480D0>\n",
      "\n",
      "\n"
     ]
    }
   ],
   "source": [
    "def order():\n",
    "    ordering = True\n",
    "    while ordering:\n",
    "        display_actions()\n",
    "        user_choice = input(\"Enter your choice: \")\n",
    "        if user_choice == \"1\":\n",
    "            display_menu()\n",
    "            sku_prompt = \"Choose an item to add: \"\n",
    "            quantity_prompt = \"Enter quantity for selected item: \"\n",
    "            sku, quantity = get_sku_and_quantity(sku_prompt, quantity_prompt)\n",
    "            add_to_cart(sku, quantity)\n",
    "        elif user_choice == \"2\":\n",
    "            display_items_from_cart()\n",
    "            sku_prompt = \"Choose an item to remove: \"\n",
    "            sku = get_sku_and_quantity(sku_prompt)\n",
    "            remove_from_cart(sku)\n",
    "        elif user_choice == \"3\":\n",
    "            display_items_from_cart()\n",
    "            sku_prompt = \"Choose an item to modify : \"\n",
    "            quantity_prompt = \"Enter new quantity: \"\n",
    "            sku, quantity = get_sku_and_quantity(sku_prompt, quantity_prompt)\n",
    "            modify_item(sku, quantity)\n",
    "        elif user_choice == \"4\":\n",
    "            view_items()\n",
    "        elif user_choice == \"5\":\n",
    "            checkout()\n",
    "            ordering = False\n",
    "        elif user_choice == \"6\":\n",
    "            ordering = False\n",
    "        else:\n",
    "            print(\"Please Enter valid choice\")\n",
    "order()"
   ]
  },
  {
   "cell_type": "code",
   "execution_count": null,
   "id": "f157ac6e",
   "metadata": {},
   "outputs": [],
   "source": []
  }
 ],
 "metadata": {
  "kernelspec": {
   "display_name": "Python 3 (ipykernel)",
   "language": "python",
   "name": "python3"
  },
  "language_info": {
   "codemirror_mode": {
    "name": "ipython",
    "version": 3
   },
   "file_extension": ".py",
   "mimetype": "text/x-python",
   "name": "python",
   "nbconvert_exporter": "python",
   "pygments_lexer": "ipython3",
   "version": "3.9.13"
  }
 },
 "nbformat": 4,
 "nbformat_minor": 5
}
