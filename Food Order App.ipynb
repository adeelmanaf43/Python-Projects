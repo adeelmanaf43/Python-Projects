{
 "cells": [
  {
   "cell_type": "code",
   "execution_count": 1,
   "id": "c1db4d7f",
   "metadata": {},
   "outputs": [],
   "source": [
    "resturant_name = \"Chuddy Buddies\"\n",
    "actions = {\"1\": \"Add an item to the cart\",\n",
    "          \"2\":\"Remove an item from the cart\",\n",
    "          \"3\": \"Modify an item in the cart\",\n",
    "          \"4\": \"View Items in the cart\",\n",
    "          \"5\": \"Checkout\",\n",
    "          \"6\": \"Exit\"}\n",
    "food_items = {\n",
    "    \"SKU1\": {\"name\": \"Margherita Pizza\", \"price\": 8.99},\n",
    "    \"SKU2\": {\"name\": \"Cheeseburger\", \"price\": 6.49},\n",
    "    \"SKU3\": {\"name\": \"Caesar Salad\", \"price\": 7.99},\n",
    "    \"SKU4\": {\"name\": \"Spaghetti Bolognese\", \"price\": 12.99},\n",
    "    \"SKU5\": {\"name\": \"Grilled Chicken Sandwich\", \"price\": 9.49},\n",
    "    \"SKU6\": {\"name\": \"Fish and Chips\", \"price\": 11.49},\n",
    "    \"SKU7\": {\"name\": \"Veggie Burger\", \"price\": 7.99},\n",
    "    \"SKU8\": {\"name\": \"Chicken Wings\", \"price\": 8.99},\n",
    "    \"SKU9\": {\"name\": \"Chocolate Cake\", \"price\": 5.49},\n",
    "    \"SKU10\": {\"name\": \"Ice Cream Sundae\", \"price\": 4.99}\n",
    "}\n",
    "cart = {}"
   ]
  },
  {
   "cell_type": "code",
   "execution_count": 14,
   "id": "01030cd0",
   "metadata": {},
   "outputs": [
    {
     "name": "stdout",
     "output_type": "stream",
     "text": [
      "\n",
      "Welcome to ***Chuddy Buddies***\n",
      "\n",
      "(1) Add an item to the cart\n",
      "(2) Remove an item from the cart\n",
      "(3) Modify an item in the cart\n",
      "(4) View Items in the cart\n",
      "(5) Checkout\n",
      "(6) Exit\n"
     ]
    }
   ],
   "source": [
    "def action_menu():\n",
    "    print(f\"\\nWelcome to ***{resturant_name}***\\n\")\n",
    "    for action in actions:\n",
    "        print(f\"({action}) {actions[action]}\")\n",
    "action_menu()"
   ]
  },
  {
   "cell_type": "code",
   "execution_count": 8,
   "id": "7e480e4b",
   "metadata": {},
   "outputs": [
    {
     "name": "stdout",
     "output_type": "stream",
     "text": [
      "(1) Margherita Pizza\n",
      "(2) Cheeseburger\n",
      "(3) Caesar Salad\n",
      "(4) Spaghetti Bolognese\n",
      "(5) Grilled Chicken Sandwich\n",
      "(6) Fish and Chips\n",
      "(7) Veggie Burger\n",
      "(8) Chicken Wings\n",
      "(9) Chocolate Cake\n",
      "(10) Ice Cream Sundae\n"
     ]
    }
   ],
   "source": [
    "def items_menu():\n",
    "    for item in food_items:\n",
    "        print(f\"({item[3:]}) {food_items[item]['name']}\")\n",
    "items_menu()"
   ]
  },
  {
   "cell_type": "code",
   "execution_count": 23,
   "id": "d787f936",
   "metadata": {},
   "outputs": [],
   "source": [
    "def add_item(sku, quantity = 1):\n",
    "    if sku in food_items:\n",
    "        if sku in cart:\n",
    "            cart[sku] += quantity\n",
    "        else:\n",
    "            cart[sku] = quantity\n",
    "    else:\n",
    "        print(f\"Item not available\")\n",
    "add_item(\"SKU1\", 10)"
   ]
  },
  {
   "cell_type": "code",
   "execution_count": 20,
   "id": "deea97a3",
   "metadata": {},
   "outputs": [
    {
     "name": "stdout",
     "output_type": "stream",
     "text": [
      "Item Margherita Pizza is not available in cart\n"
     ]
    }
   ],
   "source": [
    "def remove_item(sku):\n",
    "    if sku in cart:\n",
    "        removed = cart.pop(sku)\n",
    "        print(f\"{food_items[sku]['name']} is successfully removed from the cart\")\n",
    "    else:\n",
    "        print(f\"Item {food_items[sku]['name']} is not available in cart\")\n",
    "remove_item(\"SKU1\")"
   ]
  },
  {
   "cell_type": "code",
   "execution_count": 22,
   "id": "d86d9671",
   "metadata": {},
   "outputs": [],
   "source": [
    "def modify_item(sku, quantity):\n",
    "    if sku in cart:\n",
    "        if quantity > 0:\n",
    "            cart[sku] = quantity\n",
    "            print(f\"Item {food_items[sku]['name']} successfully modified\")\n",
    "        else:\n",
    "            cart.pop(sku)\n",
    "            print(f\"Item {food_items[sku]['name']} successfully removed\")\n",
    "    else:\n",
    "        print(f\"Item {food_items[sku]['name']} not in the cart\")"
   ]
  },
  {
   "cell_type": "code",
   "execution_count": 24,
   "id": "cb34de88",
   "metadata": {},
   "outputs": [
    {
     "data": {
      "text/plain": [
       "{'SKU1': 10, 'SKU8': 9, 'SKU3': 13}"
      ]
     },
     "execution_count": 24,
     "metadata": {},
     "output_type": "execute_result"
    }
   ],
   "source": [
    "add_item(\"SKU8\", 9)\n",
    "add_item(\"SKU3\", 13)\n",
    "cart"
   ]
  },
  {
   "cell_type": "code",
   "execution_count": 29,
   "id": "dbc56760",
   "metadata": {},
   "outputs": [
    {
     "name": "stdout",
     "output_type": "stream",
     "text": [
      "\n",
      "***Your Order***\n",
      "\n",
      "10x SKU1\n",
      "9x SKU8\n",
      "13x SKU3\n",
      "\n",
      "Total: 293.9076$\n",
      "\n"
     ]
    }
   ],
   "source": [
    "def view_items():\n",
    "    subtotal = 0\n",
    "    print(\"\\n***Your Order***\\n\")\n",
    "    for item in cart:\n",
    "        print(f\"{cart[item]}x {item}\")\n",
    "        quantity = cart[item]\n",
    "        price = food_items[item]['price']\n",
    "        subtotal += (price * quantity)\n",
    "    total = subtotal + subtotal * 0.07\n",
    "    print(f\"\\nTotal: {total}$\\n\")\n",
    "checkout()"
   ]
  },
  {
   "cell_type": "code",
   "execution_count": 30,
   "id": "6fb79898",
   "metadata": {},
   "outputs": [
    {
     "name": "stdout",
     "output_type": "stream",
     "text": [
      "Thank you for your order! Good Bye!\n",
      "\n",
      "***Your Order***\n",
      "\n",
      "10x SKU1\n",
      "9x SKU8\n",
      "13x SKU3\n",
      "\n",
      "Total: 293.9076$\n",
      "\n",
      "\n"
     ]
    }
   ],
   "source": [
    "def checkout():\n",
    "    print(\"Thank you for your order! Good Bye!\")\n",
    "    view_items()\n",
    "    print()\n",
    "checkout()"
   ]
  },
  {
   "cell_type": "code",
   "execution_count": 40,
   "id": "db1ac9f1",
   "metadata": {},
   "outputs": [],
   "source": [
    "def sku_and_quantity(sku_prompt, quantity_prompt = None):\n",
    "    sku = input(sku_prompt)\n",
    "    sku = \"SKU\" + sku\n",
    "    if quantity_prompt:\n",
    "        qty = input(quantity_prompt)\n",
    "        if not qty.isdigit():\n",
    "            qty = 1\n",
    "        else:\n",
    "            qty = int(qty)\n",
    "        return sku,qty\n",
    "    else:\n",
    "        return sku"
   ]
  },
  {
   "cell_type": "code",
   "execution_count": 44,
   "id": "6a0bfd9e",
   "metadata": {},
   "outputs": [
    {
     "name": "stdout",
     "output_type": "stream",
     "text": [
      "1 Margherita Pizza, quantity: 10\n",
      "8 Chicken Wings, quantity: 9\n",
      "3 Caesar Salad, quantity: 13\n",
      "5 Grilled Chicken Sandwich, quantity: 10\n"
     ]
    }
   ],
   "source": [
    "def display_cart_items():\n",
    "    for item in cart:\n",
    "        print(f\"{item[3:]} {food_items[item]['name']}, quantity: {cart[item]}\")\n",
    "display_cart_items()"
   ]
  },
  {
   "cell_type": "code",
   "execution_count": 47,
   "id": "32300bdd",
   "metadata": {},
   "outputs": [
    {
     "name": "stdout",
     "output_type": "stream",
     "text": [
      "\n",
      "Welcome to ***Chuddy Buddies***\n",
      "\n",
      "(1) Add an item to the cart\n",
      "(2) Remove an item from the cart\n",
      "(3) Modify an item in the cart\n",
      "(4) View Items in the cart\n",
      "(5) Checkout\n",
      "(6) Exit\n",
      "\n",
      "Enter your choice: 6\n",
      "\n",
      "\n"
     ]
    }
   ],
   "source": [
    "def order():\n",
    "    ordering = True\n",
    "    sku_prompt = \"Choose an item: \"\n",
    "    quantity_prompt = \"Choose quantity: \"\n",
    "    while ordering:\n",
    "        action_menu()\n",
    "        user_choice = input(\"\\nEnter your choice: \")\n",
    "        print(\"\\n\")\n",
    "        if user_choice == \"1\":\n",
    "            items_menu()\n",
    "            sku, qty = sku_and_quantity(sku_prompt, quantity_prompt)\n",
    "            add_item(sku, qty)\n",
    "        elif user_choice == \"2\":\n",
    "            display_cart_items()\n",
    "            sku = sku_and_quantity(sku_prompt)\n",
    "            remove_item(sku)\n",
    "        elif user_choice == \"3\":\n",
    "            display_cart_items()\n",
    "            sku, qty = sku_and_quantity(sku_prompt, quantity_prompt)\n",
    "            modify_item(sku, qty)\n",
    "        elif user_choice == \"4\":\n",
    "            view_items()\n",
    "        elif user_choice == \"5\":\n",
    "            checkout()\n",
    "            ordering = False\n",
    "        elif user_choice == \"6\":\n",
    "            ordering = False\n",
    "        else:\n",
    "            print(\"Please enter valid choice\")\n",
    "            \n",
    "order()"
   ]
  },
  {
   "cell_type": "code",
   "execution_count": null,
   "id": "59b385f6",
   "metadata": {},
   "outputs": [],
   "source": []
  }
 ],
 "metadata": {
  "kernelspec": {
   "display_name": "Python 3 (ipykernel)",
   "language": "python",
   "name": "python3"
  },
  "language_info": {
   "codemirror_mode": {
    "name": "ipython",
    "version": 3
   },
   "file_extension": ".py",
   "mimetype": "text/x-python",
   "name": "python",
   "nbconvert_exporter": "python",
   "pygments_lexer": "ipython3",
   "version": "3.9.13"
  }
 },
 "nbformat": 4,
 "nbformat_minor": 5
}
